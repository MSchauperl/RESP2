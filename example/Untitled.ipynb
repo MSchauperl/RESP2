{
 "cells": [
  {
   "cell_type": "code",
   "execution_count": 1,
   "metadata": {
    "pycharm": {
     "is_executing": false
    }
   },
   "outputs": [
    {
     "name": "stdout",
     "output_type": "stream",
     "text": [
      "Failed to import openforcefield and/or OpenEye toolkit.\n"
     ]
    }
   ],
   "source": [
    "import resp2\n",
    "\n",
    "import logging as log"
   ]
  },
  {
   "cell_type": "code",
   "execution_count": 2,
   "metadata": {
    "pycharm": {
     "is_executing": false
    }
   },
   "outputs": [
    {
     "name": "stderr",
     "output_type": "stream",
     "text": [
      "WARNING:root:folder ethanol-liquid already exists\n",
      "INFO:root:Created target file ethanol-liquid/data.csv\n",
      "    Density: 789.3 g/l\n",
      "    Heat of Vaporization: 42.3 kcal/mol\n",
      "    Dielectric Constant: 32.7\n",
      "INFO:root:The following SMILES string will be converted: CCO\n",
      "INFO:root:-=# Output #=- Created ethanol-liquid/ETH.mol2 containing single molecule\n",
      "INFO:root:-=# Output #=- Created ethanol-liquid/ETH.pdb containing single molecule\n",
      "INFO:root:Running gmx insert-molecules to create a solvent box...\n",
      "INFO:root:Time elapsed:  0.010 seconds\n",
      "INFO:root:Running gmx insert-molecules to create a solvent box...\n",
      "INFO:root:Time elapsed:  1.357 seconds\n",
      "INFO:root:-=# Output #=- Created ethanol-liquid/ETH-box.pdb containing solvent box with 700 molecules and length 4.267\n"
     ]
    },
    {
     "data": {
      "text/plain": [
       "0"
      ]
     },
     "execution_count": 2,
     "metadata": {},
     "output_type": "execute_result"
    }
   ],
   "source": [
    "log.getLogger().setLevel(log.INFO)\n",
    "resp2.create_target(name ='ethanol',density=789.3,hov = 42.3, dielectric=32.7,smiles='CCO',resname ='ETH')"
   ]
  },
  {
   "cell_type": "code",
   "execution_count": 3,
   "metadata": {
    "pycharm": {
     "is_executing": false,
     "name": "#%%\n"
    }
   },
   "outputs": [
    {
     "name": "stderr",
     "output_type": "stream",
     "text": [
      "INFO:root:Created conformations for ethanol-liquid/ETH.mol2 and saved them to ethanol-liquid/ETH-conformers.mol2\n"
     ]
    }
   ],
   "source": [
    "number_of_conformers=resp2.create_conformers(infile='ethanol-liquid/ETH.mol2', outfile='ethanol-liquid/ETH-conformers.mol2')\n",
    "\n",
    "\n"
   ]
  },
  {
   "cell_type": "code",
   "execution_count": 4,
   "metadata": {},
   "outputs": [
    {
     "name": "stderr",
     "output_type": "stream",
     "text": [
      "INFO:root:Optimization of ethanol and conformer 1 succesful\n",
      "INFO:root:Optimization of ethanol and conformer 2 succesful\n",
      "WARNING:root:folder ethanol-RESP2LIQUID already exists\n",
      "WARNING:root:folder ethanol-RESP2LIQUID/input already exists\n",
      "WARNING:root:folder ethanol-RESP2LIQUID/input/molecules already exists\n",
      "WARNING:root:folder ethanol-RESP2LIQUID/input/molecules/mol1 already exists\n",
      "WARNING:root:folder ethanol-RESP2LIQUID/input/molecules/mol1/conf1 already exists\n",
      "WARNING:root:folder ethanol-RESP2LIQUID/input/molecules/mol1/conf2 already exists\n",
      "INFO:root:Create folder structure for ethanol with 2 conformers\n",
      "INFO:root:ESP calculation for ethanol and conformer 1 succesful\n",
      "INFO:root:ESP calculation for ethanol and conformer 2 succesful\n",
      "WARNING:root:folder ethanol-RESP2GAS already exists\n",
      "WARNING:root:folder ethanol-RESP2GAS/input already exists\n",
      "WARNING:root:folder ethanol-RESP2GAS/input/molecules already exists\n",
      "WARNING:root:folder ethanol-RESP2GAS/input/molecules/mol1 already exists\n",
      "WARNING:root:folder ethanol-RESP2GAS/input/molecules/mol1/conf1 already exists\n",
      "WARNING:root:folder ethanol-RESP2GAS/input/molecules/mol1/conf2 already exists\n",
      "INFO:root:Create folder structure for ethanol with 2 conformers\n",
      "INFO:root:ESP calculation for ethanol and conformer 1 succesful\n",
      "INFO:root:ESP calculation for ethanol and conformer 2 succesful\n",
      "WARNING:root:folder ethanol-RESP1 already exists\n",
      "WARNING:root:folder ethanol-RESP1/input already exists\n",
      "WARNING:root:folder ethanol-RESP1/input/molecules already exists\n",
      "WARNING:root:folder ethanol-RESP1/input/molecules/mol1 already exists\n",
      "WARNING:root:folder ethanol-RESP1/input/molecules/mol1/conf1 already exists\n",
      "WARNING:root:folder ethanol-RESP1/input/molecules/mol1/conf2 already exists\n",
      "INFO:root:Create folder structure for ethanol with 2 conformers\n",
      "INFO:root:ESP calculation for ethanol and conformer 1 succesful\n",
      "INFO:root:ESP calculation for ethanol and conformer 2 succesful\n",
      "INFO:root:Created charges RESP1 type charges with a delta value of 2.0\n",
      "INFO:root:Created charges RESP2 type charges with a delta value of 0.5\n"
     ]
    },
    {
     "data": {
      "text/plain": [
       "0"
      ]
     },
     "execution_count": 4,
     "metadata": {},
     "output_type": "execute_result"
    }
   ],
   "source": [
    "resp2.optimize_conformers(name ='ethanol',resname ='ETH', opt = True,number_of_conformers=number_of_conformers)\n",
    "resp2.create_respyte(name ='ethanol',resname ='ETH', type='RESP2LIQUID',number_of_conformers=number_of_conformers)\n",
    "resp2.create_respyte(name ='ethanol',resname ='ETH', type='RESP2GAS',number_of_conformers=number_of_conformers)\n",
    "resp2.create_respyte(name ='ethanol',resname ='ETH', type='RESP1',number_of_conformers=number_of_conformers)\n",
    "resp2.create_charge_file(name='ethanol',resname ='ETH', type = 'RESP1', delta= 2.0)\n",
    "resp2.create_charge_file(name='ethanol',resname ='ETH', type = 'RESP2', delta= 0.5)"
   ]
  },
  {
   "cell_type": "code",
   "execution_count": null,
   "metadata": {},
   "outputs": [],
   "source": []
  }
 ],
 "metadata": {
  "kernelspec": {
   "display_name": "RESP2",
   "language": "python",
   "name": "resp2"
  },
  "language_info": {
   "codemirror_mode": {
    "name": "ipython",
    "version": 3
   },
   "file_extension": ".py",
   "mimetype": "text/x-python",
   "name": "python",
   "nbconvert_exporter": "python",
   "pygments_lexer": "ipython3",
   "version": "3.6.7"
  },
  "pycharm": {
   "stem_cell": {
    "cell_type": "raw",
    "metadata": {
     "collapsed": false
    },
    "source": []
   }
  }
 },
 "nbformat": 4,
 "nbformat_minor": 2
}
