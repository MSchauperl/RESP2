{
 "cells": [
  {
   "cell_type": "markdown",
   "metadata": {
    "pycharm": {
     "is_executing": false,
     "name": "#%% md\n"
    }
   },
   "source": [
    "# Ethanol example\n",
    "\n",
    "This notebook should provide a useful explanation of the RESP2 python module \n",
    "and especially how it can be used. \n",
    "\n",
    "\n",
    "We import the resp 2 library and set up the logger.\n"
   ]
  },
  {
   "cell_type": "code",
   "execution_count": 1,
   "metadata": {
    "pycharm": {
     "is_executing": false
    }
   },
   "outputs": [],
   "source": [
    "import openeye\n",
    "import resp2\n",
    "\n",
    "import logging as log\n",
    "log.getLogger().setLevel(log.INFO)"
   ]
  },
  {
   "cell_type": "markdown",
   "metadata": {
    "pycharm": {
     "name": "#%% md\n"
    }
   },
   "source": [
    "### This step is optional and only required if a ForceBalance calculations should be performed afterwards.\n",
    "\n",
    "As a first step we are creating the target directory ethanol-liquid and the corresponding data.csv file.\n",
    "All values in the data.csv are used in the ForceBalance calculation. This module should also create the corresponding \n",
    "pdb files of the monomer and the liquid box. \n",
    "\n",
    "In this testcase, density, hov and the dielectric constant is used in ForceBalance\n",
    "\n",
    "Please not that densities are required to be in g/l, Heats of Vaporization in kcal/mol. \n",
    "\n",
    "Footnote: We use a small program which is part of the openforcefield toolkit examples to create the liquid boxes. It sometimes can occur that the atoms are not \n",
    "numbered in the same order as the appear, which can cause some troubles during the FB simulation setup.\n",
    "If you encounter troubles during the simulation setup it is worth to have a look at the corresponding files and have a look \n",
    "at the atom order. If this problem occurs you can save a mol2 file with the correct atom numbering\n",
    "with an S at the end of the filename, e.g. ETHS.mol2 and rerun this step again to overwrite the atom numbering in all files.\n"
   ]
  },
  {
   "cell_type": "code",
   "execution_count": 2,
   "metadata": {
    "pycharm": {
     "is_executing": false
    }
   },
   "outputs": [
    {
     "name": "stderr",
     "output_type": "stream",
     "text": [
      "INFO:root:Created target file ethanol-liquid/data.csv\n",
      "    Density: 789.3 g/l\n",
      "    Heat of Vaporization: 42.3 kcal/mol\n",
      "    Dielectric Constant: 32.7\n",
      "INFO:root:The following SMILES string will be converted: CCO\n",
      "INFO:root:-=# Output #=- Created ETH.mol2 containing single molecule\n",
      "INFO:root:-=# Output #=- Created ETH.pdb containing single molecule\n",
      "INFO:root:Running gmx insert-molecules to create a solvent box...\n",
      "INFO:root:Time elapsed:  0.004 seconds\n",
      "INFO:root:Running gmx insert-molecules to create a solvent box...\n"
     ]
    },
    {
     "name": "stdout",
     "output_type": "stream",
     "text": [
      "/home/mschauperl/programs/RESP2/example\n"
     ]
    },
    {
     "name": "stderr",
     "output_type": "stream",
     "text": [
      "INFO:root:Time elapsed:  0.234 seconds\n",
      "INFO:root:-=# Output #=- Created ETH-box.pdb containing solvent box with 700 molecules and length 4.631\n"
     ]
    },
    {
     "data": {
      "text/plain": [
       "0"
      ]
     },
     "execution_count": 2,
     "metadata": {},
     "output_type": "execute_result"
    }
   ],
   "source": [
    "import os\n",
    "print(os.getcwd())\n",
    "os.chdir('/home/mschauperl/programs/RESP2/example/')\n",
    "resp2.create_target(name ='ethanol',density=789.3,hov = 42.3, dielectric=32.7,smiles='CCO',resname ='ETH')"
   ]
  },
  {
   "cell_type": "markdown",
   "metadata": {
    "pycharm": {
     "name": "#%% md\n"
    }
   },
   "source": [
    "The previous step was only to prepare the input for ForceBalance if you do not want to use ForceBalance you can ignore the previous step. \n",
    "\n",
    "Now the RESP2 parameterization starts. \n",
    "\n",
    "For consistency we are using the monomer file created in the previous step for the parameterization. If you \n",
    "avoided the previous step you can easily create a mol2 file by smiles string using the smiles2mol2 function of the RESP2\n",
    "package. \n",
    "\n",
    "We will call create_conformers which uses omega to create a bunch of conformers. For the exact options please look at the corresponding function to\n",
    "see all values used. The options were chosen as a compromise between speed and accruacy. "
   ]
  },
  {
   "cell_type": "code",
   "execution_count": 3,
   "metadata": {
    "pycharm": {
     "is_executing": false,
     "name": "#%%\n"
    }
   },
   "outputs": [
    {
     "name": "stderr",
     "output_type": "stream",
     "text": [
      "INFO:root:Created conformations for ethanol-liquid/ETH.mol2 and saved them to ethanol-liquid/ETH-conformers.mol2\n"
     ]
    }
   ],
   "source": [
    "number_of_conformers=resp2.create_conformers(infile='ETH.mol2',resname ='ETH', outfile='ETH-conformers.mol2', folder = 'ethanol-liquid')"
   ]
  },
  {
   "cell_type": "markdown",
   "metadata": {
    "pycharm": {
     "name": "#%% md\n"
    }
   },
   "source": [
    "The previous function should have created a bunch of ETH-conformer files. These are non-optimized structures, which we want \n",
    "to optimize in the next step.\n",
    "\n",
    "The optimize_conformers function is optimizing and copying the resulting files to xyz format. If opt = False \n",
    "the function is only copying the file with is current geometry to an xyz format.\n",
    "The files of the xyz files are chosen to be automatically found by the next functions."
   ]
  },
  {
   "cell_type": "code",
   "execution_count": 4,
   "metadata": {
    "pycharm": {
     "is_executing": true
    }
   },
   "outputs": [
    {
     "name": "stdout",
     "output_type": "stream",
     "text": [
      "2\n",
      "DEBUG ethanol-liquid/ETH-conformers_1.mol2\n",
      "DEBUG ethanol-liquid/ETH-conformers_2.mol2\n"
     ]
    },
    {
     "name": "stderr",
     "output_type": "stream",
     "text": [
      "INFO:root:Optimization of ethanol and conformer 1 succesful\n",
      "INFO:root:Optimization of ethanol and conformer 2 succesful\n"
     ]
    }
   ],
   "source": [
    "print(number_of_conformers)\n",
    "resp2.optimize_conformers(name ='ethanol',resname ='ETH', opt = True,number_of_conformers=number_of_conformers, folder = 'ethanol-liquid')"
   ]
  },
  {
   "cell_type": "markdown",
   "metadata": {
    "pycharm": {
     "name": "#%% md\n"
    }
   },
   "source": [
    "After we have all optimized geometries we can actually start to create charges. Therefore we use the help\n",
    "ot the respyte program package which was developed by Lee-Ping Wang and co-workers fro UC Davies. \n",
    "To do so we are using the create_respyte function which creates all input files and run all necessary calculations.\n",
    "We are running it with 3 different type options: RESP1, RESP2GAS, RESP2LIQUID.\n",
    "\n",
    "To use scaled RESP1 charges we do only require the calculation of type RESP1.\n",
    "For RESP2 parameterization RESP2GAS and RESP2LIQUID are both required."
   ]
  },
  {
   "cell_type": "code",
   "execution_count": 5,
   "metadata": {
    "pycharm": {
     "is_executing": true,
     "name": "#%%  \n"
    }
   },
   "outputs": [
    {
     "name": "stderr",
     "output_type": "stream",
     "text": [
      "WARNING:root:folder ethanol-RESP2LIQUID already exists\n",
      "WARNING:root:folder ethanol-RESP2LIQUID/input already exists\n",
      "WARNING:root:folder ethanol-RESP2LIQUID/input/molecules already exists\n",
      "WARNING:root:folder ethanol-RESP2LIQUID/input/molecules/mol1 already exists\n",
      "WARNING:root:folder ethanol-RESP2LIQUID/input/molecules/mol1/conf1 already exists\n",
      "WARNING:root:folder ethanol-RESP2LIQUID/input/molecules/mol1/conf2 already exists\n",
      "INFO:root:Create folder structure for ethanol with 2 conformers\n",
      "INFO:root:ESP calculation for ethanol and conformer 1 successful\n",
      "INFO:root:ESP calculation for ethanol and conformer 2 successful\n",
      "WARNING:root:folder ethanol-RESP2GAS already exists\n",
      "WARNING:root:folder ethanol-RESP2GAS/input already exists\n",
      "WARNING:root:folder ethanol-RESP2GAS/input/molecules already exists\n",
      "WARNING:root:folder ethanol-RESP2GAS/input/molecules/mol1 already exists\n",
      "WARNING:root:folder ethanol-RESP2GAS/input/molecules/mol1/conf1 already exists\n",
      "WARNING:root:folder ethanol-RESP2GAS/input/molecules/mol1/conf2 already exists\n",
      "INFO:root:Create folder structure for ethanol with 2 conformers\n",
      "INFO:root:ESP calculation for ethanol and conformer 1 successful\n",
      "INFO:root:ESP calculation for ethanol and conformer 2 successful\n",
      "WARNING:root:folder ethanol-RESP1 already exists\n",
      "WARNING:root:folder ethanol-RESP1/input already exists\n",
      "WARNING:root:folder ethanol-RESP1/input/molecules already exists\n",
      "WARNING:root:folder ethanol-RESP1/input/molecules/mol1 already exists\n",
      "WARNING:root:folder ethanol-RESP1/input/molecules/mol1/conf1 already exists\n",
      "WARNING:root:folder ethanol-RESP1/input/molecules/mol1/conf2 already exists\n",
      "INFO:root:Create folder structure for ethanol with 2 conformers\n",
      "INFO:root:ESP calculation for ethanol and conformer 1 successful\n",
      "INFO:root:ESP calculation for ethanol and conformer 2 successful\n"
     ]
    },
    {
     "data": {
      "text/plain": [
       "0"
      ]
     },
     "execution_count": 5,
     "metadata": {},
     "output_type": "execute_result"
    }
   ],
   "source": [
    "resp2.create_respyte(name ='ethanol',resname='ETH', type='RESP2LIQUID',number_of_conformers=number_of_conformers)\n",
    "resp2.create_respyte(name ='ethanol', resname='ETH', type='RESP2GAS',number_of_conformers=number_of_conformers)\n",
    "resp2.create_respyte(name ='ethanol', resname = 'ETH',type='RESP1',number_of_conformers=number_of_conformers)"
   ]
  },
  {
   "cell_type": "markdown",
   "metadata": {
    "pycharm": {
     "name": "#%% md\n"
    }
   },
   "source": [
    "The previous comment shoud have created 3 new folders with the output of the respyte calculations. Please to not rename these folders as\n",
    "the next function is looking for exactly these folder and the respyte ouptut in the folder.\n",
    "\n",
    "The next function is combining the RESP calculations of the previous step to calculate charges. The first line is\n",
    "scaling RESP1 charges. IN this case all charges are scaled by a factor 1.05. So all charges\n",
    "are 5% higher than for regular RESP1\n",
    "\n",
    "The second line is creating a mixture of gas phase and liquid phase charges. We are using here a mixing paramter of \n",
    "0.5 which corresponds to 50% gas charges and 50% liquid charges. With this mixing we can adjust the polarity of our \n",
    "forcefield and parameters, respectively. "
   ]
  },
  {
   "cell_type": "code",
   "execution_count": 6,
   "metadata": {
    "pycharm": {
     "is_executing": true,
     "name": "#%%\n"
    }
   },
   "outputs": [
    {
     "name": "stderr",
     "output_type": "stream",
     "text": [
      "INFO:root:Created charges RESP1 type charges with a delta value of 1.05\n",
      "INFO:root:Created charges RESP2 type charges with a delta value of 0.5\n"
     ]
    },
    {
     "data": {
      "text/plain": [
       "0"
      ]
     },
     "execution_count": 6,
     "metadata": {},
     "output_type": "execute_result"
    }
   ],
   "source": [
    "resp2.create_charge_file(name='ethanol',resname ='ETH', type = 'RESP1', delta= 1.05)\n",
    "resp2.create_charge_file(name='ethanol',resname ='ETH', type = 'RESP2', delta= 0.5)"
   ]
  },
  {
   "cell_type": "markdown",
   "metadata": {
    "pycharm": {
     "is_executing": true,
     "name": "#%% md\n"
    }
   },
   "source": [
    "Although, it is useful to have the different functions available through an python API, a user may is just\n",
    "interested in creating RESP2 charges with a single command therefore, we wrapped all the command shown above in a single function \n",
    "to allow RESP2 charges to be generated very easily.\n",
    "The following commend is doing exactly what is done in the notebook. "
   ]
  },
  {
   "cell_type": "code",
   "execution_count": 7,
   "metadata": {
    "pycharm": {
     "is_executing": true,
     "name": "#%%\n"
    }
   },
   "outputs": [
    {
     "name": "stderr",
     "output_type": "stream",
     "text": [
      "WARNING:root:folder methanol-liquid already exists\n",
      "INFO:root:Created target file methanol-liquid/data.csv\n",
      "    Density: 789.3 g/l\n",
      "    Heat of Vaporization: 42.3 kcal/mol\n",
      "    Dielectric Constant: 32.7\n",
      "INFO:root:The following SMILES string will be converted: CO\n",
      "INFO:root:-=# Output #=- Created MET.mol2 containing single molecule\n",
      "INFO:root:-=# Output #=- Created MET.pdb containing single molecule\n",
      "INFO:root:Running gmx insert-molecules to create a solvent box...\n",
      "INFO:root:Time elapsed:  0.004 seconds\n",
      "INFO:root:Running gmx insert-molecules to create a solvent box...\n",
      "INFO:root:Time elapsed:  0.100 seconds\n",
      "INFO:root:-=# Output #=- Created MET-box.pdb containing solvent box with 700 molecules and length 4.103\n",
      "INFO:root:Created conformations for methanol-liquid/MET.mol2 and saved them to methanol-liquid/MET-conformers.mol2\n"
     ]
    },
    {
     "name": "stdout",
     "output_type": "stream",
     "text": [
      "DEBUG methanol-liquid/MET-conformers_1.mol2\n"
     ]
    },
    {
     "name": "stderr",
     "output_type": "stream",
     "text": [
      "INFO:root:Optimization of methanol and conformer 1 succesful\n",
      "WARNING:root:folder methanol-RESP2LIQUID already exists\n",
      "WARNING:root:folder methanol-RESP2LIQUID/input already exists\n",
      "WARNING:root:folder methanol-RESP2LIQUID/input/molecules already exists\n",
      "WARNING:root:folder methanol-RESP2LIQUID/input/molecules/mol1 already exists\n",
      "WARNING:root:folder methanol-RESP2LIQUID/input/molecules/mol1/conf1 already exists\n",
      "INFO:root:Create folder structure for methanol with 1 conformers\n",
      "INFO:root:ESP calculation for methanol and conformer 1 successful\n",
      "WARNING:root:folder methanol-RESP2GAS already exists\n",
      "WARNING:root:folder methanol-RESP2GAS/input already exists\n",
      "WARNING:root:folder methanol-RESP2GAS/input/molecules already exists\n",
      "WARNING:root:folder methanol-RESP2GAS/input/molecules/mol1 already exists\n",
      "WARNING:root:folder methanol-RESP2GAS/input/molecules/mol1/conf1 already exists\n",
      "INFO:root:Create folder structure for methanol with 1 conformers\n",
      "INFO:root:ESP calculation for methanol and conformer 1 successful\n",
      "WARNING:root:folder methanol-RESP1 already exists\n",
      "WARNING:root:folder methanol-RESP1/input already exists\n",
      "WARNING:root:folder methanol-RESP1/input/molecules already exists\n",
      "WARNING:root:folder methanol-RESP1/input/molecules/mol1 already exists\n",
      "WARNING:root:folder methanol-RESP1/input/molecules/mol1/conf1 already exists\n",
      "INFO:root:Create folder structure for methanol with 1 conformers\n",
      "INFO:root:ESP calculation for methanol and conformer 1 successful\n",
      "INFO:root:Created charges RESP1 type charges with a delta value of 1.0\n"
     ]
    },
    {
     "data": {
      "text/plain": [
       "0"
      ]
     },
     "execution_count": 7,
     "metadata": {},
     "output_type": "execute_result"
    }
   ],
   "source": [
    "resp2.create_target(name='methanol', density=789.3, hov=42.3, dielectric=32.7, smiles='CO', resname='MET')\n",
    "resp2.create_RESP2(opt = True, name = 'methanol', resname = 'MET', folder = 'methanol-liquid'  )\n",
    "#create_RESP2("
   ]
  },
  {
   "cell_type": "code",
   "execution_count": 13,
   "metadata": {
    "pycharm": {
     "is_executing": true,
     "name": "#%% \n"
    }
   },
   "outputs": [
    {
     "name": "stderr",
     "output_type": "stream",
     "text": [
      "INFO:root:Created conformations for butanol-liquid/BUT.mol2 and saved them to butanol-liquid/BUT-conformers.mol2\n"
     ]
    },
    {
     "name": "stdout",
     "output_type": "stream",
     "text": [
      "/home/mschauperl/programs/RESP2/example\n",
      "DEBUG butanol-liquid/BUT-conformers_1.mol2\n",
      "DEBUG butanol-liquid/BUT-conformers_2.mol2\n"
     ]
    },
    {
     "name": "stderr",
     "output_type": "stream",
     "text": [
      "INFO:root:Optimization of butanol and conformer 1 succesful\n",
      "INFO:root:Optimization of butanol and conformer 2 succesful\n",
      "WARNING:root:folder butanol-RESP2LIQUID already exists\n",
      "WARNING:root:folder butanol-RESP2LIQUID/input already exists\n",
      "WARNING:root:folder butanol-RESP2LIQUID/input/molecules already exists\n",
      "WARNING:root:folder butanol-RESP2LIQUID/input/molecules/mol1 already exists\n",
      "WARNING:root:folder butanol-RESP2LIQUID/input/molecules/mol1/conf1 already exists\n",
      "WARNING:root:folder butanol-RESP2LIQUID/input/molecules/mol1/conf2 already exists\n",
      "INFO:root:Create folder structure for butanol with 2 conformers\n",
      "INFO:root:ESP calculation for butanol and conformer 1 successful\n",
      "INFO:root:ESP calculation for butanol and conformer 2 successful\n",
      "WARNING:root:folder butanol-RESP2GAS already exists\n",
      "WARNING:root:folder butanol-RESP2GAS/input already exists\n",
      "WARNING:root:folder butanol-RESP2GAS/input/molecules already exists\n",
      "WARNING:root:folder butanol-RESP2GAS/input/molecules/mol1 already exists\n",
      "WARNING:root:folder butanol-RESP2GAS/input/molecules/mol1/conf1 already exists\n",
      "WARNING:root:folder butanol-RESP2GAS/input/molecules/mol1/conf2 already exists\n",
      "INFO:root:Create folder structure for butanol with 2 conformers\n",
      "INFO:root:ESP calculation for butanol and conformer 1 successful\n",
      "INFO:root:ESP calculation for butanol and conformer 2 successful\n",
      "WARNING:root:folder butanol-RESP1 already exists\n",
      "WARNING:root:folder butanol-RESP1/input already exists\n",
      "WARNING:root:folder butanol-RESP1/input/molecules already exists\n",
      "WARNING:root:folder butanol-RESP1/input/molecules/mol1 already exists\n",
      "WARNING:root:folder butanol-RESP1/input/molecules/mol1/conf1 already exists\n",
      "WARNING:root:folder butanol-RESP1/input/molecules/mol1/conf2 already exists\n",
      "INFO:root:Create folder structure for butanol with 2 conformers\n",
      "INFO:root:ESP calculation for butanol and conformer 1 successful\n",
      "INFO:root:ESP calculation for butanol and conformer 2 successful\n",
      "INFO:root:Created charges RESP1 type charges with a delta value of 1.0\n"
     ]
    },
    {
     "data": {
      "text/plain": [
       "0"
      ]
     },
     "execution_count": 13,
     "metadata": {},
     "output_type": "execute_result"
    }
   ],
   "source": [
    "import os\n",
    "#os.mkdir('butanol-liquid'\n",
    "print(os.getcwd())\n",
    "resp2.create_smifile_from_string(smiles='CCO',filename='butanol-liquid/BUT.smi')\n",
    "os.system('obabel -ismi butanol-liquid/BUT.smi -omol2 -Obutanol-liquid/BUT.mol2 --gen3d --hydrogen')\n",
    "resp2.create_RESP2(name = 'butanol', resname = 'BUT', folder = 'butanol-liquid' )\n"
   ]
  },
  {
   "cell_type": "code",
   "execution_count": null,
   "metadata": {
    "pycharm": {
     "is_executing": true,
     "name": "#%% \n"
    }
   },
   "outputs": [],
   "source": []
  },
  {
   "cell_type": "code",
   "execution_count": null,
   "metadata": {
    "pycharm": {
     "is_executing": true,
     "name": "#%%\n"
    }
   },
   "outputs": [],
   "source": [
    "number_of_conformers2=resp2.create_conformers(infile='ETH.mol2',resname ='BUT', outfile='BUT-conformers.mol2', folder = 'butanol-liquid')\n"
   ]
  },
  {
   "cell_type": "code",
   "execution_count": null,
   "metadata": {},
   "outputs": [],
   "source": [
    "print(number_of_conformers2)"
   ]
  },
  {
   "cell_type": "code",
   "execution_count": 18,
   "metadata": {},
   "outputs": [],
   "source": [
    "from openeye import oechem\n",
    "from openeye import oeomega\n",
    "import os\n",
    "import openbabel\n",
    "\n",
    "def create_RESP2(smi = None,folder='', opt=True, name='', resname='MOL', delta=1.0, density=None, hov=None, dielectric=None):\n",
    "    \"\"\"\n",
    "    Creates a mol2 file with RESP2 charges from a mol2 file (resname.mol2) or from a smiles string.\n",
    "    :param folder: folder to write the output files.\n",
    "    :param opt: True when generated conformers should be locally optimized.\n",
    "    :param name: Name of the compound\n",
    "    :param density: Density of the molecule in kg / m3\n",
    "    :param hov: Heats of Vaporization in kJ /kcal / mol\n",
    "    :param dielectric: Dielectric constant\n",
    "    :param folder: Name of the folder for the target. If not specified. {name}-liquid is used.\n",
    "    :param resname: Abbreviation of the Residue. Specified in the mol2\n",
    "    :param delta: Fraction (in percent) of liquid charges. default=1.0\n",
    "    :return:\n",
    "    \"\"\"\n",
    "\n",
    "    if folder is None:\n",
    "        folder = name + '-liquid'\n",
    "    if not os.path.isdir(folder):\n",
    "        os.mkdir(folder)\n",
    "    infile = '{}.mol2'.format(resname)\n",
    "    infile_path = os.path.join(folder, '{}.mol2'.format(resname))\n",
    "    if not os.path.isfile(infile_path):\n",
    "        log.warning('Could not find file: {}'.format(infile_path))\n",
    "        if smi is not None:\n",
    "            os.system('obabel -ismi {}-liquid/B{}.smi -omol2 -O{}-liquid/{}.mol2 --gen3d --hydrogen'.format(name,resname,name,resname))\n",
    "\n",
    "#             log.warning('Create molecule from SMILES string')\n",
    "#             resp2.create_smifile_from_string(smiles=smi,filename=os.path.join(folder,'{}.smi'.format(resname)))\n",
    "\n",
    "#             obConversion = openbabel.OBConversion()\n",
    "#             obConversion.SetInAndOutFormats(\"smi\", \"mol2\")\n",
    "\n",
    "#             inputfile = os.path.join(folder, resname + '.smi')\n",
    "#             outputfile = os.path.join(folder, resname + '.mol2')\n",
    "\n",
    "#             mol = openbabel.OBMol()\n",
    "#             obConversion.ReadFile(mol, inputfile)\n",
    "#             #mol.make3D()\n",
    "#             mol.addh()\n",
    "#             obConversion.WriteFile(mol, outputfile)\n",
    "    outfile = '{}-conformers.mol2'.format(resname)\n",
    "    print(infile)\n",
    "    print(outfile)\n",
    "    print(resname)\n",
    "    print(folder)\n",
    "    number_of_conformers = resp2.create_conformers(infile=infile, outfile=outfile,resname = resname,folder = folder)\n",
    "    resp2.optimize_conformers(name=name, resname=resname, opt=opt, number_of_conformers=number_of_conformers,folder = folder)\n",
    "    resp2.create_respyte(name=name, resname=resname, type='RESP2LIQUID', number_of_conformers=number_of_conformers)\n",
    "    resp2.create_respyte(name=name, resname=resname, type='RESP2GAS', number_of_conformers=number_of_conformers)\n",
    "    resp2.create_respyte(name=name, resname=resname, type='RESP1', number_of_conformers=number_of_conformers)\n",
    "    resp2.create_charge_file(name=name, resname=resname, type='RESP1', delta=delta)\n",
    "    return 0"
   ]
  },
  {
   "cell_type": "code",
   "execution_count": 19,
   "metadata": {},
   "outputs": [
    {
     "name": "stderr",
     "output_type": "stream",
     "text": [
      "INFO:root:Created conformations for methanol2-liquid/MTH.mol2 and saved them to methanol2-liquid/MTH-conformers.mol2\n"
     ]
    },
    {
     "name": "stdout",
     "output_type": "stream",
     "text": [
      "MTH.mol2\n",
      "MTH-conformers.mol2\n",
      "MTH\n",
      "methanol2-liquid\n",
      "DEBUG methanol2-liquid/MTH-conformers_1.mol2\n"
     ]
    },
    {
     "name": "stderr",
     "output_type": "stream",
     "text": [
      "INFO:root:Optimization of methanol2 and conformer 1 succesful\n",
      "INFO:root:Create folder structure for methanol2 with 1 conformers\n",
      "INFO:root:ESP calculation for methanol2 and conformer 1 successful\n",
      "INFO:root:Create folder structure for methanol2 with 1 conformers\n",
      "INFO:root:ESP calculation for methanol2 and conformer 1 successful\n",
      "INFO:root:Create folder structure for methanol2 with 1 conformers\n",
      "INFO:root:ESP calculation for methanol2 and conformer 1 successful\n",
      "INFO:root:Created charges RESP1 type charges with a delta value of 1.0\n"
     ]
    },
    {
     "data": {
      "text/plain": [
       "0"
      ]
     },
     "execution_count": 19,
     "metadata": {},
     "output_type": "execute_result"
    }
   ],
   "source": [
    "create_RESP2(smi = 'CO', opt = True, name = 'methanol2', resname = 'MTH', folder = 'methanol2-liquid' )\n"
   ]
  },
  {
   "cell_type": "code",
   "execution_count": null,
   "metadata": {},
   "outputs": [],
   "source": [
    "number_of_conformers=resp2.create_conformers(infile='MTH.mol2',resname ='MTH', outfile='MTH-conformers.mol2', folder = 'methanol2-liquid')"
   ]
  },
  {
   "cell_type": "code",
   "execution_count": null,
   "metadata": {},
   "outputs": [],
   "source": []
  }
 ],
 "metadata": {
  "kernelspec": {
   "display_name": "Python (RESP2)",
   "language": "python",
   "name": "resp2"
  },
  "language_info": {
   "codemirror_mode": {
    "name": "ipython",
    "version": 3
   },
   "file_extension": ".py",
   "mimetype": "text/x-python",
   "name": "python",
   "nbconvert_exporter": "python",
   "pygments_lexer": "ipython3",
   "version": "3.6.7"
  },
  "pycharm": {
   "stem_cell": {
    "cell_type": "raw",
    "metadata": {
     "collapsed": false
    },
    "source": []
   }
  }
 },
 "nbformat": 4,
 "nbformat_minor": 2
}
