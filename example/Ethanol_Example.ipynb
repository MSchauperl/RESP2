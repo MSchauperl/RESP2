{
 "cells": [
  {
   "cell_type": "code",
   "execution_count": 1,
   "metadata": {
    "pycharm": {
     "is_executing": false
    }
   },
   "outputs": [
    {
     "name": "stdout",
     "text": [
      "Failed to import openforcefield and/or OpenEye toolkit.\n"
     ],
     "output_type": "stream"
    }
   ],
   "source": [
    "import resp2\n",
    "\n",
    "import logging as log"
   ]
  },
  {
   "cell_type": "code",
   "execution_count": 2,
   "metadata": {
    "pycharm": {
     "is_executing": false
    }
   },
   "outputs": [
    {
     "name": "stderr",
     "text": [
      "WARNING:root:folder ethanol-liquid already exists\n",
      "INFO:root:Created target file ethanol-liquid/data.csv\n    Density: 789.3 g/l\n    Heat of Vaporization: 42.3 kcal/mol\n    Dielectric Constant: 32.7\n",
      "INFO:root:The following SMILES string will be converted: CCO\n",
      "INFO:root:-=# Output #=- Created ethanol-liquid/ETH.mol2 containing single molecule\n",
      "INFO:root:-=# Output #=- Created ethanol-liquid/ETH.pdb containing single molecule\n",
      "INFO:root:Running gmx insert-molecules to create a solvent box...\n",
      "INFO:root:Time elapsed:  0.053 seconds\n",
      "INFO:root:Running gmx insert-molecules to create a solvent box...\n",
      "INFO:root:Time elapsed:  0.838 seconds\n",
      "INFO:root:-=# Output #=- Created ethanol-liquid/ETH-box.pdb containing solvent box with 700 molecules and length 4.267\n"
     ],
     "output_type": "stream"
    },
    {
     "data": {
      "text/plain": "0"
     },
     "metadata": {},
     "output_type": "execute_result",
     "execution_count": 2
    }
   ],
   "source": [
    "log.getLogger().setLevel(log.INFO)\n",
    "resp2.create_target(name ='ethanol',density=789.3,hov = 42.3, dielectric=32.7,smiles='CCO',resname ='ETH')"
   ]
  },
  {
   "cell_type": "code",
   "execution_count": 3,
   "metadata": {
    "pycharm": {
     "is_executing": false,
     "name": "#%%\n"
    }
   },
   "outputs": [
    {
     "name": "stderr",
     "text": [
      "INFO:root:Created conformations for ethanol-liquid/ETH.mol2 and saved them to ethanol-liquid/ETH-conformers.mol2\n"
     ],
     "output_type": "stream"
    }
   ],
   "source": [
    "number_of_conformers=resp2.create_conformers(infile='ethanol-liquid/ETH.mol2', outfile='ethanol-liquid/ETH-conformers.mol2')\n",
    "\n",
    "\n"
   ]
  },
  {
   "cell_type": "code",
   "execution_count": 4,
   "metadata": {
    "pycharm": {
     "is_executing": false
    }
   },
   "outputs": [
    {
     "name": "stderr",
     "text": [
      "INFO:root:Optimization of ethanol and conformer 1 succesful\n",
      "INFO:root:Optimization of ethanol and conformer 2 succesful\n",
      "WARNING:root:folder ethanol-RESP2LIQUID already exists\n",
      "WARNING:root:folder ethanol-RESP2LIQUID/input already exists\n",
      "WARNING:root:folder ethanol-RESP2LIQUID/input/molecules already exists\n",
      "WARNING:root:folder ethanol-RESP2LIQUID/input/molecules/mol1 already exists\n",
      "WARNING:root:folder ethanol-RESP2LIQUID/input/molecules/mol1/conf1 already exists\n",
      "WARNING:root:folder ethanol-RESP2LIQUID/input/molecules/mol1/conf2 already exists\n",
      "INFO:root:Create folder structure for ethanol with 2 conformers\n"
     ],
     "output_type": "stream"
    },
    {
     "traceback": [
      "\u001b[0;31m---------------------------------------------------------------------------\u001b[0m",
      "\u001b[0;31mTypeError\u001b[0m                                 Traceback (most recent call last)",
      "\u001b[0;32m<ipython-input-4-4f44bad49a8d>\u001b[0m in \u001b[0;36m<module>\u001b[0;34m\u001b[0m\n\u001b[1;32m      1\u001b[0m \u001b[0mresp2\u001b[0m\u001b[0;34m.\u001b[0m\u001b[0moptimize_conformers\u001b[0m\u001b[0;34m(\u001b[0m\u001b[0mname\u001b[0m \u001b[0;34m=\u001b[0m\u001b[0;34m'ethanol'\u001b[0m\u001b[0;34m,\u001b[0m\u001b[0mresname\u001b[0m \u001b[0;34m=\u001b[0m\u001b[0;34m'ETH'\u001b[0m\u001b[0;34m,\u001b[0m \u001b[0mopt\u001b[0m \u001b[0;34m=\u001b[0m \u001b[0;32mTrue\u001b[0m\u001b[0;34m,\u001b[0m\u001b[0mnumber_of_conformers\u001b[0m\u001b[0;34m=\u001b[0m\u001b[0mnumber_of_conformers\u001b[0m\u001b[0;34m)\u001b[0m\u001b[0;34m\u001b[0m\u001b[0;34m\u001b[0m\u001b[0m\n\u001b[0;32m----> 2\u001b[0;31m \u001b[0mresp2\u001b[0m\u001b[0;34m.\u001b[0m\u001b[0mcreate_respyte\u001b[0m\u001b[0;34m(\u001b[0m\u001b[0mname\u001b[0m \u001b[0;34m=\u001b[0m\u001b[0;34m'ethanol'\u001b[0m\u001b[0;34m,\u001b[0m\u001b[0mresname\u001b[0m \u001b[0;34m=\u001b[0m\u001b[0;34m'ETH'\u001b[0m\u001b[0;34m,\u001b[0m \u001b[0mtype\u001b[0m\u001b[0;34m=\u001b[0m\u001b[0;34m'RESP2LIQUID'\u001b[0m\u001b[0;34m,\u001b[0m\u001b[0mnumber_of_conformers\u001b[0m\u001b[0;34m=\u001b[0m\u001b[0mnumber_of_conformers\u001b[0m\u001b[0;34m)\u001b[0m\u001b[0;34m\u001b[0m\u001b[0;34m\u001b[0m\u001b[0m\n\u001b[0m\u001b[1;32m      3\u001b[0m \u001b[0mresp2\u001b[0m\u001b[0;34m.\u001b[0m\u001b[0mcreate_respyte\u001b[0m\u001b[0;34m(\u001b[0m\u001b[0mname\u001b[0m \u001b[0;34m=\u001b[0m\u001b[0;34m'ethanol'\u001b[0m\u001b[0;34m,\u001b[0m\u001b[0mresname\u001b[0m \u001b[0;34m=\u001b[0m\u001b[0;34m'ETH'\u001b[0m\u001b[0;34m,\u001b[0m \u001b[0mtype\u001b[0m\u001b[0;34m=\u001b[0m\u001b[0;34m'RESP2GAS'\u001b[0m\u001b[0;34m,\u001b[0m\u001b[0mnumber_of_conformers\u001b[0m\u001b[0;34m=\u001b[0m\u001b[0mnumber_of_conformers\u001b[0m\u001b[0;34m)\u001b[0m\u001b[0;34m\u001b[0m\u001b[0;34m\u001b[0m\u001b[0m\n\u001b[1;32m      4\u001b[0m \u001b[0mresp2\u001b[0m\u001b[0;34m.\u001b[0m\u001b[0mcreate_respyte\u001b[0m\u001b[0;34m(\u001b[0m\u001b[0mname\u001b[0m \u001b[0;34m=\u001b[0m\u001b[0;34m'ethanol'\u001b[0m\u001b[0;34m,\u001b[0m\u001b[0mresname\u001b[0m \u001b[0;34m=\u001b[0m\u001b[0;34m'ETH'\u001b[0m\u001b[0;34m,\u001b[0m \u001b[0mtype\u001b[0m\u001b[0;34m=\u001b[0m\u001b[0;34m'RESP1'\u001b[0m\u001b[0;34m,\u001b[0m\u001b[0mnumber_of_conformers\u001b[0m\u001b[0;34m=\u001b[0m\u001b[0mnumber_of_conformers\u001b[0m\u001b[0;34m)\u001b[0m\u001b[0;34m\u001b[0m\u001b[0;34m\u001b[0m\u001b[0m\n\u001b[1;32m      5\u001b[0m \u001b[0mresp2\u001b[0m\u001b[0;34m.\u001b[0m\u001b[0mcreate_charge_file\u001b[0m\u001b[0;34m(\u001b[0m\u001b[0mname\u001b[0m\u001b[0;34m=\u001b[0m\u001b[0;34m'ethanol'\u001b[0m\u001b[0;34m,\u001b[0m\u001b[0mresname\u001b[0m \u001b[0;34m=\u001b[0m\u001b[0;34m'ETH'\u001b[0m\u001b[0;34m,\u001b[0m \u001b[0mtype\u001b[0m \u001b[0;34m=\u001b[0m \u001b[0;34m'RESP1'\u001b[0m\u001b[0;34m,\u001b[0m \u001b[0mdelta\u001b[0m\u001b[0;34m=\u001b[0m \u001b[0;36m2.0\u001b[0m\u001b[0;34m)\u001b[0m\u001b[0;34m\u001b[0m\u001b[0;34m\u001b[0m\u001b[0m\n",
      "\u001b[0;32m~/RESP2/resp2/resp2/resp2.py\u001b[0m in \u001b[0;36mcreate_respyte\u001b[0;34m(type, name, resname, number_of_conformers)\u001b[0m\n\u001b[1;32m    102\u001b[0m \u001b[0;34m\u001b[0m\u001b[0m\n\u001b[1;32m    103\u001b[0m     \u001b[0;31m#2 Create Respyte and RESP Optimizer input files\u001b[0m\u001b[0;34m\u001b[0m\u001b[0;34m\u001b[0m\u001b[0;34m\u001b[0m\u001b[0m\n\u001b[0;32m--> 104\u001b[0;31m     \u001b[0mcreate_respyte_input_files\u001b[0m\u001b[0;34m(\u001b[0m\u001b[0mtype\u001b[0m\u001b[0;34m=\u001b[0m\u001b[0mtype\u001b[0m\u001b[0;34m,\u001b[0m \u001b[0mname\u001b[0m\u001b[0;34m=\u001b[0m\u001b[0mname\u001b[0m\u001b[0;34m,\u001b[0m \u001b[0mresname\u001b[0m\u001b[0;34m=\u001b[0m\u001b[0mresname\u001b[0m\u001b[0;34m,\u001b[0m \u001b[0mnumber_of_conformers\u001b[0m\u001b[0;34m=\u001b[0m\u001b[0mnumber_of_conformers\u001b[0m\u001b[0;34m)\u001b[0m\u001b[0;34m\u001b[0m\u001b[0;34m\u001b[0m\u001b[0m\n\u001b[0m\u001b[1;32m    105\u001b[0m \u001b[0;34m\u001b[0m\u001b[0m\n\u001b[1;32m    106\u001b[0m     \u001b[0;31m# 3 Copy optimized files\u001b[0m\u001b[0;34m\u001b[0m\u001b[0;34m\u001b[0m\u001b[0;34m\u001b[0m\u001b[0m\n",
      "\u001b[0;31mTypeError\u001b[0m: create_respyte_input_files() got an unexpected keyword argument 'resname'"
     ],
     "ename": "TypeError",
     "evalue": "create_respyte_input_files() got an unexpected keyword argument 'resname'",
     "output_type": "error"
    }
   ],
   "source": [
    "resp2.optimize_conformers(name ='ethanol',resname ='ETH', opt = True,number_of_conformers=number_of_conformers)\n",
    "resp2.create_respyte(name ='ethanol',resname ='ETH', type='RESP2LIQUID',number_of_conformers=number_of_conformers)\n",
    "resp2.create_respyte(name ='ethanol',resname ='ETH', type='RESP2GAS',number_of_conformers=number_of_conformers)\n",
    "resp2.create_respyte(name ='ethanol',resname ='ETH', type='RESP1',number_of_conformers=number_of_conformers)\n",
    "resp2.create_charge_file(name='ethanol',resname ='ETH', type = 'RESP1', delta= 2.0)\n",
    "resp2.create_charge_file(name='ethanol',resname ='ETH', type = 'RESP2', delta= 0.5)"
   ]
  },
  {
   "cell_type": "code",
   "execution_count": null,
   "metadata": {
    "pycharm": {
     "is_executing": false
    }
   },
   "outputs": [],
   "source": []
  }
 ],
 "metadata": {
  "kernelspec": {
   "display_name": "RESP2",
   "language": "python",
   "name": "resp2"
  },
  "language_info": {
   "codemirror_mode": {
    "name": "ipython",
    "version": 3
   },
   "file_extension": ".py",
   "mimetype": "text/x-python",
   "name": "python",
   "nbconvert_exporter": "python",
   "pygments_lexer": "ipython3",
   "version": "3.6.7"
  },
  "pycharm": {
   "stem_cell": {
    "cell_type": "raw",
    "metadata": {
     "collapsed": false
    },
    "source": []
   }
  }
 },
 "nbformat": 4,
 "nbformat_minor": 2
}