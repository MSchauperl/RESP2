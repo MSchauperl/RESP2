{
 "cells": [
  {
   "cell_type": "markdown",
   "metadata": {
    "pycharm": {
     "is_executing": false,
     "name": "#%% md\n"
    }
   },
   "source": [
    "# Ethanol example\n",
    "\n",
    "This notebook should provide a useful explanation of the RESP2 python module \n",
    "and especially how it can be used. \n",
    "\n",
    "\n",
    "We import the resp 2 library and set up the logger.\n"
   ]
  },
  {
   "cell_type": "code",
   "execution_count": 1,
   "metadata": {
    "pycharm": {
     "is_executing": false
    }
   },
   "outputs": [],
   "source": [
    "import resp2\n",
    "import logging as log\n",
    "log.getLogger().setLevel(log.INFO)"
   ]
  },
  {
   "cell_type": "markdown",
   "metadata": {
    "pycharm": {
     "name": "#%% md\n"
    }
   },
   "source": [
    "### This step is optional and only required if a ForceBalance calculations should be performed afterwards.\n",
    "\n",
    "As a first step we are creating the target directory ethanol-liquid and the corresponding data.csv file.\n",
    "All values in the data.csv are used in the ForceBalance calculation. This module should also create the corresponding \n",
    "pdb files of the monomer and the liquid box. \n",
    "\n",
    "In this testcase, density, hov and the dielectric constant is used in ForceBalance\n",
    "\n",
    "Please not that densities are required to be in g/l, Heats of Vaporization in kcal/mol. \n",
    "\n",
    "Footnote: We use a small program which is part of the openforcefield toolkit examples to create the liquid boxes. It sometimes can occur that the atoms are not \n",
    "numbered in the same order as the appear, which can cause some troubles during the FB simulation setup.\n",
    "If you encounter troubles during the simulation setup it is worth to have a look at the corresponding files and have a look \n",
    "at the atom order. If this problem occurs you can save a mol2 file with the correct atom numbering\n",
    "with an S at the end of the filename, e.g. ETHS.mol2 and rerun this step again to overwrite the atom numbering in all files.\n"
   ]
  },
  {
   "cell_type": "code",
   "execution_count": 2,
   "metadata": {
    "pycharm": {
     "is_executing": false
    }
   },
   "outputs": [
    {
     "name": "stderr",
     "text": [
      "WARNING:root:folder ethanol-liquid already exists\n",
      "INFO:root:Created target file ethanol-liquid/data.csv\n    Density: 789.3 g/l\n    Heat of Vaporization: 42.3 kcal/mol\n    Dielectric Constant: 32.7\n",
      "INFO:root:The following SMILES string will be converted: CCO\n",
      "INFO:root:-=# Output #=- Created ETH.mol2 containing single molecule\n",
      "INFO:root:-=# Output #=- Created ETH.pdb containing single molecule\n",
      "INFO:root:Running gmx insert-molecules to create a solvent box...\n",
      "INFO:root:Time elapsed:  0.005 seconds\n",
      "INFO:root:Running gmx insert-molecules to create a solvent box...\n",
      "INFO:root:Time elapsed:  0.290 seconds\n",
      "INFO:root:-=# Output #=- Created ETH-box.pdb containing solvent box with 700 molecules and length 4.631\n"
     ],
     "output_type": "stream"
    },
    {
     "data": {
      "text/plain": "0"
     },
     "metadata": {},
     "output_type": "execute_result",
     "execution_count": 2
    }
   ],
   "source": [
    "resp2.create_target(name ='ethanol',density=789.3,hov = 42.3, dielectric=32.7,smiles='CCO',resname ='ETH')"
   ]
  },
  {
   "cell_type": "markdown",
   "metadata": {
    "pycharm": {
     "name": "#%% md\n"
    }
   },
   "source": [
    "The previous step was only to prepare the input for ForceBalance if you do not want to use ForceBalance you can ignore the previous step. \n",
    "\n",
    "Now the RESP2 parameterization starts. \n",
    "\n",
    "For consistency we are using the monomer file created in the previous step for the parameterization. If you \n",
    "avoided the previous step you can easily create a mol2 file by smiles string using the smiles2mol2 function of the RESP2\n",
    "package. \n",
    "\n",
    "We will call create_conformers which uses omega to create a bunch of conformers. For the exact options please look at the corresponding function to\n",
    "see all values used. The options were chosen as a compromise between speed and accruacy. "
   ]
  },
  {
   "cell_type": "code",
   "execution_count": 3,
   "metadata": {
    "pycharm": {
     "is_executing": false,
     "name": "#%%\n"
    }
   },
   "outputs": [
    {
     "name": "stderr",
     "text": [
      "INFO:root:Created conformations for ethanol-liquid/ETH.mol2 and saved them to ethanol-liquid/ETH-conformers.mol2\n"
     ],
     "output_type": "stream"
    }
   ],
   "source": [
    "number_of_conformers=resp2.create_conformers(infile='ETH.mol2', outfile='ETH-conformers.mol2', folder = 'ethanol-liquid')"
   ]
  },
  {
   "cell_type": "markdown",
   "metadata": {
    "pycharm": {
     "name": "#%% md\n"
    }
   },
   "source": [
    "The previous function should have created a bunch of ETH-conformer files. These are non-optimized structures, which we want \n",
    "to optimize in the next step.\n",
    "\n",
    "The optimize_conformers function is optimizing and copying the resulting files to xyz format. If opt = False \n",
    "the function is only copying the file with is current geometry to an xyz format.\n",
    "The files of the xyz files are chosen to be automatically found by the next functions."
   ]
  },
  {
   "cell_type": "code",
   "execution_count": 4,
   "metadata": {
    "pycharm": {
     "is_executing": false
    }
   },
   "outputs": [],
   "source": [
    "resp2.optimize_conformers(name ='ethanol',resname ='ETH', opt = True,number_of_conformers=number_of_conformers)"
   ]
  },
  {
   "cell_type": "markdown",
   "metadata": {
    "pycharm": {
     "name": "#%% md\n"
    }
   },
   "source": [
    "After we have all optimized geometries we can actually start to create charges. Therefore we use the help\n",
    "ot the respyte program package which was developed by Lee-Ping Wang and co-workers fro UC Davies. \n",
    "To do so we are using the create_respyte function which creates all input files and run all necessary calculations.\n",
    "We are running it with 3 different type options: RESP1, RESP2GAS, RESP2LIQUID.\n",
    "\n",
    "To use scaled RESP1 charges we do only require the calculation of type RESP1.\n",
    "For RESP2 parameterization RESP2GAS and RESP2LIQUID are both required."
   ]
  },
  {
   "cell_type": "code",
   "execution_count": 5,
   "metadata": {
    "pycharm": {
     "is_executing": false,
     "name": "#%%  \n"
    }
   },
   "outputs": [
    {
     "name": "stderr",
     "text": [
      "WARNING:root:folder ethanol-RESP2LIQUID already exists\n",
      "WARNING:root:folder ethanol-RESP2LIQUID/input already exists\n",
      "WARNING:root:folder ethanol-RESP2LIQUID/input/molecules already exists\n",
      "WARNING:root:folder ethanol-RESP2LIQUID/input/molecules/mol1 already exists\n",
      "INFO:root:Create folder structure for ethanol with 0 conformers\n",
      "WARNING:root:folder ethanol-RESP2GAS already exists\n",
      "WARNING:root:folder ethanol-RESP2GAS/input already exists\n",
      "WARNING:root:folder ethanol-RESP2GAS/input/molecules already exists\n",
      "WARNING:root:folder ethanol-RESP2GAS/input/molecules/mol1 already exists\n",
      "INFO:root:Create folder structure for ethanol with 0 conformers\n",
      "WARNING:root:folder ethanol-RESP1 already exists\n",
      "WARNING:root:folder ethanol-RESP1/input already exists\n",
      "WARNING:root:folder ethanol-RESP1/input/molecules already exists\n",
      "WARNING:root:folder ethanol-RESP1/input/molecules/mol1 already exists\n",
      "INFO:root:Create folder structure for ethanol with 0 conformers\n"
     ],
     "output_type": "stream"
    },
    {
     "data": {
      "text/plain": "0"
     },
     "metadata": {},
     "output_type": "execute_result",
     "execution_count": 5
    }
   ],
   "source": [
    "resp2.create_respyte(name ='ethanol',resname='ETH', type='RESP2LIQUID',number_of_conformers=number_of_conformers)\n",
    "resp2.create_respyte(name ='ethanol', resname='ETH', type='RESP2GAS',number_of_conformers=number_of_conformers)\n",
    "resp2.create_respyte(name ='ethanol', resname = 'ETH',type='RESP1',number_of_conformers=number_of_conformers)"
   ]
  },
  {
   "cell_type": "markdown",
   "metadata": {
    "pycharm": {
     "name": "#%% md\n"
    }
   },
   "source": [
    "The previous comment shoud have created 3 new folders with the output of the respyte calculations. Please to not rename these folders as\n",
    "the next function is looking for exactly these folder and the respyte ouptut in the folder.\n",
    "\n",
    "The next function is combining the RESP calculations of the previous step to calculate charges. The first line is\n",
    "scaling RESP1 charges. IN this case all charges are scaled by a factor 1.05. So all charges\n",
    "are 5% higher than for regular RESP1\n",
    "\n",
    "The second line is creating a mixture of gas phase and liquid phase charges. We are using here a mixing paramter of \n",
    "0.5 which corresponds to 50% gas charges and 50% liquid charges. With this mixing we can adjust the polarity of our \n",
    "forcefield and parameters, respectively. "
   ]
  },
  {
   "cell_type": "code",
   "execution_count": 6,
   "metadata": {
    "pycharm": {
     "is_executing": false,
     "name": "#%%\n"
    }
   },
   "outputs": [
    {
     "name": "stderr",
     "text": [
      "INFO:root:Created charges RESP1 type charges with a delta value of 1.05\n",
      "INFO:root:Created charges RESP2 type charges with a delta value of 0.5\n"
     ],
     "output_type": "stream"
    },
    {
     "data": {
      "text/plain": "0"
     },
     "metadata": {},
     "output_type": "execute_result",
     "execution_count": 6
    }
   ],
   "source": [
    "resp2.create_charge_file(name='ethanol',resname ='ETH', type = 'RESP1', delta= 1.05)\n",
    "resp2.create_charge_file(name='ethanol',resname ='ETH', type = 'RESP2', delta= 0.5)"
   ]
  },
  {
   "cell_type": "markdown",
   "metadata": {
    "pycharm": {
     "is_executing": true,
     "name": "#%% md\n"
    }
   },
   "source": [
    "Although, it is useful to have the different functions available through an python API, a user may is just\n",
    "interested in creating RESP2 charges with a single command therefore, we wrapped all the command shown above in a single function \n",
    "to allow RESP2 charges to be generated very easily.\n",
    "The following commend is doing exactly what is done in the notebook. "
   ]
  },
  {
   "cell_type": "code",
   "execution_count": 7,
   "metadata": {
    "pycharm": {
     "is_executing": false,
     "name": "#%%\n"
    }
   },
   "outputs": [
    {
     "name": "stderr",
     "text": [
      "WARNING:root:folder methanol-liquid already exists\n",
      "INFO:root:Created target file methanol-liquid/data.csv\n    Density: 789.3 g/l\n    Heat of Vaporization: 42.3 kcal/mol\n    Dielectric Constant: 32.7\n",
      "INFO:root:The following SMILES string will be converted: CO\n",
      "INFO:root:-=# Output #=- Created MET.mol2 containing single molecule\n",
      "INFO:root:-=# Output #=- Created MET.pdb containing single molecule\n",
      "INFO:root:Running gmx insert-molecules to create a solvent box...\n",
      "INFO:root:Time elapsed:  0.004 seconds\n",
      "INFO:root:Running gmx insert-molecules to create a solvent box...\n",
      "INFO:root:Time elapsed:  0.112 seconds\n",
      "INFO:root:-=# Output #=- Created MET-box.pdb containing solvent box with 700 molecules and length 4.103\n",
      "INFO:root:Created conformations for methanol-liquid/methanol-liquid/MET.mol2 and saved them to methanol-liquid/methanol-liquid/MET-conformers.mol2\n",
      "WARNING:root:folder methanol-RESP2LIQUID already exists\n",
      "WARNING:root:folder methanol-RESP2LIQUID/input already exists\n",
      "WARNING:root:folder methanol-RESP2LIQUID/input/molecules already exists\n",
      "WARNING:root:folder methanol-RESP2LIQUID/input/molecules/mol1 already exists\n",
      "INFO:root:Create folder structure for methanol with 0 conformers\n",
      "WARNING:root:folder methanol-RESP2GAS already exists\n",
      "WARNING:root:folder methanol-RESP2GAS/input already exists\n",
      "WARNING:root:folder methanol-RESP2GAS/input/molecules already exists\n",
      "WARNING:root:folder methanol-RESP2GAS/input/molecules/mol1 already exists\n",
      "INFO:root:Create folder structure for methanol with 0 conformers\n",
      "WARNING:root:folder methanol-RESP1 already exists\n",
      "WARNING:root:folder methanol-RESP1/input already exists\n",
      "WARNING:root:folder methanol-RESP1/input/molecules already exists\n",
      "WARNING:root:folder methanol-RESP1/input/molecules/mol1 already exists\n",
      "INFO:root:Create folder structure for methanol with 0 conformers\n",
      "INFO:root:Created charges RESP1 type charges with a delta value of 1.0\n"
     ],
     "output_type": "stream"
    },
    {
     "name": "stdout",
     "text": [
      "methanol\n"
     ],
     "output_type": "stream"
    },
    {
     "data": {
      "text/plain": "0"
     },
     "metadata": {},
     "output_type": "execute_result",
     "execution_count": 7
    }
   ],
   "source": [
    "resp2.create_target(name='methanol', density=789.3, hov=42.3, dielectric=32.7, smiles='CO', resname='MET')\n",
    "resp2.create_RESP2(opt = True, name = 'methanol', resname = 'MET', folder = 'methanol-liquid'  )\n",
    "#create_RESP2("
   ]
  },
  {
   "cell_type": "code",
   "execution_count": null,
   "metadata": {
    "pycharm": {
     "is_executing": true,
     "name": "#%% \n"
    }
   },
   "outputs": [],
   "source": [
    "import os\n",
    "#os.mkdir('butanol-liquid')\n",
    "#resp2.create_smifile_from_string(smiles='CCO',filename='butanol-liquid/BUT.mol2')\n",
    "resp2.create_RESP2(opt = True, name = 'butanol', resname = 'BUT', folder = 'butanol-liquid' )\n",
    "\n",
    "\n",
    "\n"
   ]
  }
 ],
 "metadata": {
  "kernelspec": {
   "display_name": "Python (RESP2)",
   "language": "python",
   "name": "resp2"
  },
  "language_info": {
   "codemirror_mode": {
    "name": "ipython",
    "version": 3
   },
   "file_extension": ".py",
   "mimetype": "text/x-python",
   "name": "python",
   "nbconvert_exporter": "python",
   "pygments_lexer": "ipython3",
   "version": "3.6.7"
  },
  "pycharm": {
   "stem_cell": {
    "cell_type": "raw",
    "source": [],
    "metadata": {
     "collapsed": false
    }
   }
  }
 },
 "nbformat": 4,
 "nbformat_minor": 2
}